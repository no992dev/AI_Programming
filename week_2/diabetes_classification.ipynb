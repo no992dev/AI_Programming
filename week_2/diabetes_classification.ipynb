{
 "cells": [
  {
   "cell_type": "code",
   "execution_count": 1,
   "id": "70802121-5d14-4e2a-837b-5c26fae3a80b",
   "metadata": {},
   "outputs": [],
   "source": [
    "import pandas as pd\n",
    "from sklearn.model_selection import train_test_split, cross_val_score\n",
    "from sklearn.preprocessing import StandardScaler\n",
    "from sklearn.tree import DecisionTreeClassifier\n",
    "from sklearn.ensemble import RandomForestClassifier\n",
    "from sklearn.svm import SVC\n",
    "from sklearn.linear_model import LogisticRegression\n",
    "from sklearn.metrics import accuracy_score\n",
    "from sklearn.neighbors import KNeighborsClassifier"
   ]
  },
  {
   "cell_type": "code",
   "execution_count": 5,
   "id": "34c10028-b05e-4af3-a23c-8dace09a37f3",
   "metadata": {},
   "outputs": [
    {
     "name": "stdout",
     "output_type": "stream",
     "text": [
      "Decision Tree Accuracy: 1.0000\n",
      "Cross-Validation Accuracy: 1.0000\n",
      "Random Forest Accuracy: 1.0000\n",
      "Cross-Validation Accuracy: 1.0000\n",
      "Support Vector Machine Accuracy: 1.0000\n",
      "Cross-Validation Accuracy: 1.0000\n",
      "Logical Regression Accuracy: 1.0000\n",
      "Cross-Validation Accuracy: 1.0000\n",
      "K-Nearest Neighbor Accuracy: 1.0000\n",
      "Cross-Validation Accuracy: 1.0000\n"
     ]
    }
   ],
   "source": [
    "diabete = \"diabetes.csv\"\n",
    "df = pd.read_csv(diabete)\n",
    "X = df.iloc[:, -1:]\n",
    "y = df.iloc[:, -1]\n",
    "X_train, X_test, y_train, y_test = train_test_split(X, y, test_size = 0.2, random_state = 42)\n",
    "\n",
    "# DT 모델 학습\n",
    "dt_model = DecisionTreeClassifier(random_state=42)\n",
    "dt_model.fit(X_train, y_train)\n",
    "\n",
    "# 예측 및 평가\n",
    "y_pred = dt_model.predict(X_test)\n",
    "accuracy = accuracy_score(y_test, y_pred)\n",
    "cross_val_acc = cross_val_score(dt_model, X, y, cv=5).mean() # 교차 검증\n",
    "print(f\"Decision Tree Accuracy: {accuracy:.4f}\")\n",
    "print(f\"Cross-Validation Accuracy: {cross_val_acc:.4f}\")\n",
    "\n",
    "# RF 모델 학습\n",
    "rf_model = RandomForestClassifier(n_estimators=100, random_state=42)\n",
    "rf_model.fit(X_train, y_train)\n",
    "\n",
    "# 예측 및 평가\n",
    "y_pred = rf_model.predict(X_test)\n",
    "accuracy = accuracy_score(y_test, y_pred)\n",
    "cross_val_acc = cross_val_score(rf_model, X, y, cv=5).mean()\n",
    "print(f\"Random Forest Accuracy: {accuracy:.4f}\")\n",
    "print(f\"Cross-Validation Accuracy: {cross_val_acc:.4f}\")\n",
    "\n",
    "# SVM 모델 학습\n",
    "svm_model = SVC()\n",
    "svm_model.fit(X_train, y_train)\n",
    "\n",
    "# 예측 및 평가\n",
    "y_pred = svm_model.predict(X_test)\n",
    "accuracy = accuracy_score(y_test, y_pred)\n",
    "cross_val_acc = cross_val_score(svm_model, X, y, cv=5).mean()\n",
    "print(f\"Support Vector Machine Accuracy: {accuracy:.4f}\")\n",
    "print(f\"Cross-Validation Accuracy: {cross_val_acc:.4f}\")\n",
    "\n",
    "# LR 모델 학습\n",
    "lr_model = LogisticRegression(max_iter=200)\n",
    "lr_model.fit(X_train, y_train)\n",
    "\n",
    "# 예측 및 평가\n",
    "y_pred = svm_model.predict(X_test)\n",
    "accuracy = accuracy_score(y_test, y_pred)\n",
    "cross_val_acc = cross_val_score(lr_model, X, y, cv=5).mean()\n",
    "print(f\"Logical Regression Accuracy: {accuracy:.4f}\")\n",
    "print(f\"Cross-Validation Accuracy: {cross_val_acc:.4f}\")\n",
    "\n",
    "# KNN 모델 학습 (k=3 사용)\n",
    "k = 3\n",
    "knn_model = KNeighborsClassifier(n_neighbors=k)\n",
    "knn_model.fit(X_train, y_train)\n",
    "\n",
    "# 예측 및 평가\n",
    "y_pred = knn_model.predict(X_test)\n",
    "accuracy = accuracy_score(y_test, y_pred)\n",
    "cross_val_acc = cross_val_score(lr_model, X, y, cv=5).mean()\n",
    "print(f'K-Nearest Neighbor Accuracy: {accuracy:.4f}')\n",
    "print(f\"Cross-Validation Accuracy: {cross_val_acc:.4f}\")"
   ]
  },
  {
   "cell_type": "code",
   "execution_count": null,
   "id": "3cc6a868-cd0a-41b1-bd2d-06942b473eab",
   "metadata": {},
   "outputs": [],
   "source": []
  }
 ],
 "metadata": {
  "kernelspec": {
   "display_name": "Python 3 (ipykernel)",
   "language": "python",
   "name": "python3"
  },
  "language_info": {
   "codemirror_mode": {
    "name": "ipython",
    "version": 3
   },
   "file_extension": ".py",
   "mimetype": "text/x-python",
   "name": "python",
   "nbconvert_exporter": "python",
   "pygments_lexer": "ipython3",
   "version": "3.12.6"
  }
 },
 "nbformat": 4,
 "nbformat_minor": 5
}
