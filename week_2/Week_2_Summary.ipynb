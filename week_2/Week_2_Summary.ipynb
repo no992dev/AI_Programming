{
 "cells": [
  {
   "cell_type": "markdown",
   "id": "b7d2dbe1-44ad-4f7c-aad7-0e642c3286c8",
   "metadata": {},
   "source": [
    "### 라이브러리 임포트"
   ]
  },
  {
   "cell_type": "code",
   "execution_count": 1,
   "id": "4e25c84b-8b2f-40b3-a3ff-96a6e3bd46af",
   "metadata": {},
   "outputs": [],
   "source": [
    "import pandas as pd\n",
    "import requests\n",
    "from io import StringIO\n",
    "from sklearn.model_selection import train_test_split, cross_val_score\n",
    "from sklearn.preprocessing import LabelEncoder, StandardScaler\n",
    "from sklearn.tree import DecisionTreeClassifier\n",
    "from sklearn.ensemble import RandomForestClassifier\n",
    "from sklearn.svm import SVC\n",
    "from sklearn.linear_model import LogisticRegression\n",
    "from sklearn.neighbors import KNeighborsClassifier\n",
    "from sklearn.metrics import accuracy_score, confusion_matrix\n",
    "import random"
   ]
  },
  {
   "cell_type": "markdown",
   "id": "42232cc7-d62c-43c4-8bc7-831c5d2e08ce",
   "metadata": {},
   "source": [
    "### 파일을 불러오는 방법 4가지\n",
    "* CSV 파일을 로컬에서 업로드하는 경우\n",
    "* CSV 파일을 웹주소를 이용해 불러오는 경우\n",
    "* XLS 파일을 로컬에서 업로드하는 경우\n",
    "* CSV 파일을 웹주소를 이용해 불러오는 경우"
   ]
  },
  {
   "cell_type": "code",
   "execution_count": 2,
   "id": "7ec41576-302e-43e8-b621-3421832cd759",
   "metadata": {},
   "outputs": [
    {
     "name": "stdout",
     "output_type": "stream",
     "text": [
      "##### csv_local_df #####\n",
      "   battery_power  blue  clock_speed  dual_sim  fc  four_g  int_memory  m_dep  \\\n",
      "0            842     0          2.2         0   1       0           7    0.6   \n",
      "1           1021     1          0.5         1   0       1          53    0.7   \n",
      "2            563     1          0.5         1   2       1          41    0.9   \n",
      "3            615     1          2.5         0   0       0          10    0.8   \n",
      "4           1821     1          1.2         0  13       1          44    0.6   \n",
      "\n",
      "   mobile_wt  n_cores  ...  px_height  px_width   ram  sc_h  sc_w  talk_time  \\\n",
      "0        188        2  ...         20       756  2549     9     7         19   \n",
      "1        136        3  ...        905      1988  2631    17     3          7   \n",
      "2        145        5  ...       1263      1716  2603    11     2          9   \n",
      "3        131        6  ...       1216      1786  2769    16     8         11   \n",
      "4        141        2  ...       1208      1212  1411     8     2         15   \n",
      "\n",
      "   three_g  touch_screen  wifi  price_range  \n",
      "0        0             0     1            1  \n",
      "1        1             1     0            2  \n",
      "2        1             1     0            2  \n",
      "3        1             0     0            2  \n",
      "4        1             1     0            1  \n",
      "\n",
      "[5 rows x 21 columns]\n",
      "\n",
      "##### csv_web_df #####\n",
      "   battery_power  blue  clock_speed  dual_sim  fc  four_g  int_memory  m_dep  \\\n",
      "0            842     0          2.2         0   1       0           7    0.6   \n",
      "1           1021     1          0.5         1   0       1          53    0.7   \n",
      "2            563     1          0.5         1   2       1          41    0.9   \n",
      "3            615     1          2.5         0   0       0          10    0.8   \n",
      "4           1821     1          1.2         0  13       1          44    0.6   \n",
      "\n",
      "   mobile_wt  n_cores  ...  px_height  px_width   ram  sc_h  sc_w  talk_time  \\\n",
      "0        188        2  ...         20       756  2549     9     7         19   \n",
      "1        136        3  ...        905      1988  2631    17     3          7   \n",
      "2        145        5  ...       1263      1716  2603    11     2          9   \n",
      "3        131        6  ...       1216      1786  2769    16     8         11   \n",
      "4        141        2  ...       1208      1212  1411     8     2         15   \n",
      "\n",
      "   three_g  touch_screen  wifi  price_range  \n",
      "0        0             0     1            1  \n",
      "1        1             1     0            2  \n",
      "2        1             1     0            2  \n",
      "3        1             0     0            2  \n",
      "4        1             1     0            1  \n",
      "\n",
      "[5 rows x 21 columns]\n",
      "\n",
      "##### xls_local_df #####\n",
      "   Num.  subject_ID Sex(M/F)  Age(year)  Height(cm)  Weight(kg)  \\\n",
      "0     1           2   Female         45         152          63   \n",
      "1     1           2   Female         45         152          63   \n",
      "2     1           2   Female         45         152          63   \n",
      "3     2           3   Female         50         157          50   \n",
      "4     2           3   Female         50         157          50   \n",
      "\n",
      "   Systolic Blood Pressure(mmHg)  Diastolic Blood Pressure(mmHg)  \\\n",
      "0                            161                              89   \n",
      "1                            161                              89   \n",
      "2                            161                              89   \n",
      "3                            160                              93   \n",
      "4                            160                              93   \n",
      "\n",
      "   Heart Rate(b/m)  BMI(kg/m^2)  ...  2091  2092  2093  2094  2095  2096  \\\n",
      "0               97    27.268006  ...  1766  1766  1766  1833  1833  1827   \n",
      "1               97    27.268006  ...  1985  1985  2026  2026  2026  1977   \n",
      "2               97    27.268006  ...  1942  1900  1900  1938  1938  1938   \n",
      "3               76    20.284799  ...  2073  2072  2072  2072  2051  2051   \n",
      "4               76    20.284799  ...  2021  2010  2010  2010  2001  2001   \n",
      "\n",
      "   2097  2098  2099  2100  \n",
      "0  1827  1827  1754  1754  \n",
      "1  1977  1997  1997  1997  \n",
      "2  1924  1924  1929  1929  \n",
      "3  2036  2036  2036  2045  \n",
      "4  2003  2003  2003  1989  \n",
      "\n",
      "[5 rows x 2114 columns]\n",
      "\n",
      "##### xls_web_df #####\n",
      "   Num.  subject_ID Sex(M/F)  Age(year)  Height(cm)  Weight(kg)  \\\n",
      "0     1           2   Female         45         152          63   \n",
      "1     1           2   Female         45         152          63   \n",
      "2     1           2   Female         45         152          63   \n",
      "3     2           3   Female         50         157          50   \n",
      "4     2           3   Female         50         157          50   \n",
      "\n",
      "   Systolic Blood Pressure(mmHg)  Diastolic Blood Pressure(mmHg)  \\\n",
      "0                            161                              89   \n",
      "1                            161                              89   \n",
      "2                            161                              89   \n",
      "3                            160                              93   \n",
      "4                            160                              93   \n",
      "\n",
      "   Heart Rate(b/m)  BMI(kg/m^2)  ...  2091  2092  2093  2094  2095  2096  \\\n",
      "0               97    27.268006  ...  1766  1766  1766  1833  1833  1827   \n",
      "1               97    27.268006  ...  1985  1985  2026  2026  2026  1977   \n",
      "2               97    27.268006  ...  1942  1900  1900  1938  1938  1938   \n",
      "3               76    20.284799  ...  2073  2072  2072  2072  2051  2051   \n",
      "4               76    20.284799  ...  2021  2010  2010  2010  2001  2001   \n",
      "\n",
      "   2097  2098  2099  2100  \n",
      "0  1827  1827  1754  1754  \n",
      "1  1977  1997  1997  1997  \n",
      "2  1924  1924  1929  1929  \n",
      "3  2036  2036  2036  2045  \n",
      "4  2003  2003  2003  1989  \n",
      "\n",
      "[5 rows x 2114 columns]\n"
     ]
    }
   ],
   "source": [
    "## Code\n",
    "#### CSV 파일 로컬 업로드 ####\n",
    "csv_local = \"C:\\\\AI_Dataset\\\\mobile.csv\"\n",
    "csv_local_df = pd.read_csv(csv_local)\n",
    "print(f\"##### csv_local_df #####\")\n",
    "print(csv_local_df.head())\n",
    "print()\n",
    "\n",
    "#### CSV 파일 웹에서 로드 ####\n",
    "csv_web = \"https://github.com/MyungKyuYi/AI-class/raw/main/mobile.csv\"\n",
    "csv_web_df = pd.read_csv(csv_web)\n",
    "print(f\"##### csv_web_df #####\")\n",
    "print(csv_web_df.head())\n",
    "print()\n",
    "\n",
    "#### XLS 파일 로컬 업로드 ####\n",
    "xls_local = \"C:\\\\AI_Dataset\\\\combined_dataset-1.xlsx\"\n",
    "xls_local_df = pd.read_excel(xls_local) # openpyxl 라이브러리 필요\n",
    "print(f\"##### xls_local_df #####\")\n",
    "print(xls_local_df.head())\n",
    "print()\n",
    "\n",
    "#### XLS 파일 웹에서 로드 ####\n",
    "xls_web = \"https://github.com/MyungKyuYi/AI-class/raw/main/combined_dataset-1.xlsx\"\n",
    "xls_web_df = pd.read_excel(xls_web) # openpyxl 라이브러리 필요\n",
    "print(f\"##### xls_web_df #####\")\n",
    "print(xls_web_df.head())"
   ]
  },
  {
   "cell_type": "markdown",
   "id": "1eeec509-937c-4a5e-8ec2-a10d5edbc12f",
   "metadata": {},
   "source": [
    "### 타이타닉 데이터 분류\n",
    "목표:\n",
    "* 결측치(null값) 확인 후 임의의 값으로 입력\n",
    "* 레이블 확인 후 imbalanced data 체크\n",
    "* 타이타닉 데이터에서 필요없는 열(column) 제거\n",
    "* 숫자로 인코딩\n",
    "* DT, RF, SVM, LR, KNN 분류 수행\n",
    "* accuracy, confusion matrix 확인"
   ]
  },
  {
   "cell_type": "code",
   "execution_count": 3,
   "id": "e9da5585-f836-4004-b7fd-244ce2a06c4b",
   "metadata": {},
   "outputs": [
    {
     "data": {
      "text/html": [
       "<div>\n",
       "<style scoped>\n",
       "    .dataframe tbody tr th:only-of-type {\n",
       "        vertical-align: middle;\n",
       "    }\n",
       "\n",
       "    .dataframe tbody tr th {\n",
       "        vertical-align: top;\n",
       "    }\n",
       "\n",
       "    .dataframe thead th {\n",
       "        text-align: right;\n",
       "    }\n",
       "</style>\n",
       "<table border=\"1\" class=\"dataframe\">\n",
       "  <thead>\n",
       "    <tr style=\"text-align: right;\">\n",
       "      <th></th>\n",
       "      <th>PassengerId</th>\n",
       "      <th>Survived</th>\n",
       "      <th>Pclass</th>\n",
       "      <th>Name</th>\n",
       "      <th>Sex</th>\n",
       "      <th>Age</th>\n",
       "      <th>SibSp</th>\n",
       "      <th>Parch</th>\n",
       "      <th>Ticket</th>\n",
       "      <th>Fare</th>\n",
       "      <th>Cabin</th>\n",
       "      <th>Embarked</th>\n",
       "    </tr>\n",
       "  </thead>\n",
       "  <tbody>\n",
       "    <tr>\n",
       "      <th>0</th>\n",
       "      <td>1</td>\n",
       "      <td>0</td>\n",
       "      <td>3</td>\n",
       "      <td>Braund, Mr. Owen Harris</td>\n",
       "      <td>male</td>\n",
       "      <td>22.0</td>\n",
       "      <td>1</td>\n",
       "      <td>0</td>\n",
       "      <td>A/5 21171</td>\n",
       "      <td>7.2500</td>\n",
       "      <td>NaN</td>\n",
       "      <td>S</td>\n",
       "    </tr>\n",
       "    <tr>\n",
       "      <th>1</th>\n",
       "      <td>2</td>\n",
       "      <td>1</td>\n",
       "      <td>1</td>\n",
       "      <td>Cumings, Mrs. John Bradley (Florence Briggs Th...</td>\n",
       "      <td>female</td>\n",
       "      <td>38.0</td>\n",
       "      <td>1</td>\n",
       "      <td>0</td>\n",
       "      <td>PC 17599</td>\n",
       "      <td>71.2833</td>\n",
       "      <td>C85</td>\n",
       "      <td>C</td>\n",
       "    </tr>\n",
       "    <tr>\n",
       "      <th>2</th>\n",
       "      <td>3</td>\n",
       "      <td>1</td>\n",
       "      <td>3</td>\n",
       "      <td>Heikkinen, Miss. Laina</td>\n",
       "      <td>female</td>\n",
       "      <td>26.0</td>\n",
       "      <td>0</td>\n",
       "      <td>0</td>\n",
       "      <td>STON/O2. 3101282</td>\n",
       "      <td>7.9250</td>\n",
       "      <td>NaN</td>\n",
       "      <td>S</td>\n",
       "    </tr>\n",
       "    <tr>\n",
       "      <th>3</th>\n",
       "      <td>4</td>\n",
       "      <td>1</td>\n",
       "      <td>1</td>\n",
       "      <td>Futrelle, Mrs. Jacques Heath (Lily May Peel)</td>\n",
       "      <td>female</td>\n",
       "      <td>35.0</td>\n",
       "      <td>1</td>\n",
       "      <td>0</td>\n",
       "      <td>113803</td>\n",
       "      <td>53.1000</td>\n",
       "      <td>C123</td>\n",
       "      <td>S</td>\n",
       "    </tr>\n",
       "    <tr>\n",
       "      <th>4</th>\n",
       "      <td>5</td>\n",
       "      <td>0</td>\n",
       "      <td>3</td>\n",
       "      <td>Allen, Mr. William Henry</td>\n",
       "      <td>male</td>\n",
       "      <td>35.0</td>\n",
       "      <td>0</td>\n",
       "      <td>0</td>\n",
       "      <td>373450</td>\n",
       "      <td>8.0500</td>\n",
       "      <td>NaN</td>\n",
       "      <td>S</td>\n",
       "    </tr>\n",
       "  </tbody>\n",
       "</table>\n",
       "</div>"
      ],
      "text/plain": [
       "   PassengerId  Survived  Pclass  \\\n",
       "0            1         0       3   \n",
       "1            2         1       1   \n",
       "2            3         1       3   \n",
       "3            4         1       1   \n",
       "4            5         0       3   \n",
       "\n",
       "                                                Name     Sex   Age  SibSp  \\\n",
       "0                            Braund, Mr. Owen Harris    male  22.0      1   \n",
       "1  Cumings, Mrs. John Bradley (Florence Briggs Th...  female  38.0      1   \n",
       "2                             Heikkinen, Miss. Laina  female  26.0      0   \n",
       "3       Futrelle, Mrs. Jacques Heath (Lily May Peel)  female  35.0      1   \n",
       "4                           Allen, Mr. William Henry    male  35.0      0   \n",
       "\n",
       "   Parch            Ticket     Fare Cabin Embarked  \n",
       "0      0         A/5 21171   7.2500   NaN        S  \n",
       "1      0          PC 17599  71.2833   C85        C  \n",
       "2      0  STON/O2. 3101282   7.9250   NaN        S  \n",
       "3      0            113803  53.1000  C123        S  \n",
       "4      0            373450   8.0500   NaN        S  "
      ]
     },
     "execution_count": 3,
     "metadata": {},
     "output_type": "execute_result"
    }
   ],
   "source": [
    "# 파일을 불러오고 제대로 불러와졌는지 확인\n",
    "titanic = \"C:\\\\AI_Dataset\\\\titanic.csv\"\n",
    "titanic_df = pd.read_csv(titanic)\n",
    "titanic_df.head()"
   ]
  },
  {
   "cell_type": "code",
   "execution_count": 4,
   "id": "9389e88c-b50c-4adc-b9d0-1623b228d9d0",
   "metadata": {},
   "outputs": [
    {
     "name": "stdout",
     "output_type": "stream",
     "text": [
      "PassengerId      0\n",
      "Survived         0\n",
      "Pclass           0\n",
      "Name             0\n",
      "Sex              0\n",
      "Age            177\n",
      "SibSp            0\n",
      "Parch            0\n",
      "Ticket           0\n",
      "Fare             0\n",
      "Cabin          687\n",
      "Embarked         2\n",
      "dtype: int64\n"
     ]
    }
   ],
   "source": [
    "# 결측치 확인\n",
    "print(titanic_df.isnull().sum())\n",
    "# Cabin은 추후 삭제할 열이므로 결측치를 제거하지 않음\n",
    "# Age는 필요한 열이므로 평균치로 채워 결측치를 제거함"
   ]
  },
  {
   "cell_type": "code",
   "execution_count": 5,
   "id": "46479e8b-2833-4b47-adbb-03f9f0c72992",
   "metadata": {},
   "outputs": [
    {
     "name": "stdout",
     "output_type": "stream",
     "text": [
      "PassengerId      0\n",
      "Survived         0\n",
      "Pclass           0\n",
      "Name             0\n",
      "Sex              0\n",
      "Age              0\n",
      "SibSp            0\n",
      "Parch            0\n",
      "Ticket           0\n",
      "Fare             0\n",
      "Cabin          687\n",
      "Embarked         2\n",
      "dtype: int64\n"
     ]
    }
   ],
   "source": [
    "# 결측치 제거\n",
    "# 참고: https://cyber.gachon.ac.kr/mod/ubboard/article.php?id=942049&bwid=848071\n",
    "\n",
    "mean_age = titanic_df['Age'].mean()\n",
    "\n",
    "# age 컬럼의 결측치를 평균값으로 채우기\n",
    "\n",
    "titanic_df['Age'] = titanic_df['Age'].fillna(mean_age)\n",
    "\n",
    "print(titanic_df.isnull().sum()) # 결측치 다시 체크"
   ]
  },
  {
   "cell_type": "code",
   "execution_count": 6,
   "id": "2aec55e3-5bc9-4dac-9b20-14a66974e9e4",
   "metadata": {},
   "outputs": [
    {
     "name": "stdout",
     "output_type": "stream",
     "text": [
      "   PassengerId  Survived  Pclass     Sex   Age  SibSp  Parch     Fare\n",
      "0            1         0       3    male  22.0      1      0   7.2500\n",
      "1            2         1       1  female  38.0      1      0  71.2833\n",
      "2            3         1       3  female  26.0      0      0   7.9250\n",
      "3            4         1       1  female  35.0      1      0  53.1000\n",
      "4            5         0       3    male  35.0      0      0   8.0500\n"
     ]
    }
   ],
   "source": [
    "# 필요없는 열 제거\n",
    "drop_columns = [\"Name\", \"Ticket\", \"Cabin\", \"Embarked\"]\n",
    "titanic_df = titanic_df.drop(columns = drop_columns)\n",
    "print(titanic_df.head())"
   ]
  },
  {
   "cell_type": "code",
   "execution_count": 7,
   "id": "24624c70-ac5c-4dc8-a834-fbff159ca6cc",
   "metadata": {},
   "outputs": [
    {
     "name": "stdout",
     "output_type": "stream",
     "text": [
      "Sex\n",
      "male      577\n",
      "female    314\n",
      "Name: count, dtype: int64\n"
     ]
    }
   ],
   "source": [
    "# imbalanced data 확인\n",
    "print(titanic_df['Sex'].value_counts())\n",
    "# 남성이 약 260명가량 더 많음"
   ]
  },
  {
   "cell_type": "code",
   "execution_count": 8,
   "id": "ec5b85d8-66c2-4bcf-9894-bea94240dfc7",
   "metadata": {},
   "outputs": [
    {
     "name": "stdout",
     "output_type": "stream",
     "text": [
      "   PassengerId  Survived  Pclass  Sex   Age  SibSp  Parch     Fare\n",
      "0            1         0       3    1  22.0      1      0   7.2500\n",
      "1            2         1       1    0  38.0      1      0  71.2833\n",
      "2            3         1       3    0  26.0      0      0   7.9250\n",
      "3            4         1       1    0  35.0      1      0  53.1000\n",
      "4            5         0       3    1  35.0      0      0   8.0500\n"
     ]
    }
   ],
   "source": [
    "# 데이터 인코딩(범주형 데이터를 숫자로 변환)\n",
    "encoder = LabelEncoder()\n",
    "titanic_df['Sex'] = encoder.fit_transform(titanic_df['Sex'])\n",
    "print(titanic_df.head())\n",
    "# Sex 항목이 1과 0으로 변환됨(male = 1, female = 0)"
   ]
  },
  {
   "cell_type": "code",
   "execution_count": 9,
   "id": "c7e1406c-57a4-4b92-ac2e-34f87383c257",
   "metadata": {},
   "outputs": [],
   "source": [
    "# X_train, y_train, X_test, y_test 분리\n",
    "X = titanic_df.drop(columns=['Survived'])\n",
    "y = titanic_df['Survived']\n",
    "X_train, X_test, y_train, y_test = train_test_split(X, y, test_size=0.2, random_state=42)"
   ]
  },
  {
   "cell_type": "code",
   "execution_count": 10,
   "id": "15a41113-e594-4823-809a-acd5e59a7138",
   "metadata": {},
   "outputs": [
    {
     "name": "stdout",
     "output_type": "stream",
     "text": [
      "Decision Tree Accuracy: 0.7263\n",
      "Decision Tree Confusion Matrix:\n",
      "[[83 22]\n",
      " [27 47]]\n",
      "\n",
      "Random Forest Accuracy: 0.7989\n",
      "Random Forest Confusion Matrix:\n",
      "[[92 13]\n",
      " [23 51]]\n",
      "\n",
      "Support Vector Machine Accuracy: 0.5978\n",
      "Support Vector Machine Confusion Matrix:\n",
      "[[103   2]\n",
      " [ 70   4]]\n",
      "\n",
      "Logistic Regression Accuracy: 0.7765\n",
      "Logistic Regression Confusion Matrix:\n",
      "[[89 16]\n",
      " [24 50]]\n",
      "\n",
      "K-Nearest Neighbors Accuracy: 0.6592\n",
      "K-Nearest Neighbors Confusion Matrix:\n",
      "[[89 16]\n",
      " [45 29]]\n",
      "\n"
     ]
    },
    {
     "name": "stderr",
     "output_type": "stream",
     "text": [
      "C:\\Users\\gustj\\AppData\\Roaming\\Python\\Python312\\site-packages\\sklearn\\linear_model\\_logistic.py:465: ConvergenceWarning: lbfgs failed to converge (status=1):\n",
      "STOP: TOTAL NO. OF ITERATIONS REACHED LIMIT.\n",
      "\n",
      "Increase the number of iterations (max_iter) or scale the data as shown in:\n",
      "    https://scikit-learn.org/stable/modules/preprocessing.html\n",
      "Please also refer to the documentation for alternative solver options:\n",
      "    https://scikit-learn.org/stable/modules/linear_model.html#logistic-regression\n",
      "  n_iter_i = _check_optimize_result(\n"
     ]
    }
   ],
   "source": [
    "# 모델 학습 및 평가\n",
    "\n",
    "# 모델 리스트\n",
    "models = {\n",
    "    \"Decision Tree\": DecisionTreeClassifier(),\n",
    "    \"Random Forest\": RandomForestClassifier(),\n",
    "    \"Support Vector Machine\": SVC(),\n",
    "    \"Logistic Regression\": LogisticRegression(),\n",
    "    \"K-Nearest Neighbors\": KNeighborsClassifier()\n",
    "}\n",
    "\n",
    "# 모델 학습 및 평가\n",
    "for name, model in models.items():\n",
    "    model.fit(X_train, y_train)\n",
    "    y_pred = model.predict(X_test)\n",
    "    acc = accuracy_score(y_test, y_pred)\n",
    "    cm = confusion_matrix(y_test, y_pred)\n",
    "    print(f\"{name} Accuracy: {acc:.4f}\")\n",
    "    print(f\"{name} Confusion Matrix:\\n{cm}\\n\")"
   ]
  },
  {
   "cell_type": "markdown",
   "id": "d125415b-4b71-4bc1-bd0c-6148da703b64",
   "metadata": {},
   "source": [
    "### 타이타닉 데이터를 이용해서 예측값과 정답 비교(10개)"
   ]
  },
  {
   "cell_type": "code",
   "execution_count": 11,
   "id": "0245ccd8-044a-4109-866e-48bdc1026353",
   "metadata": {},
   "outputs": [
    {
     "name": "stdout",
     "output_type": "stream",
     "text": [
      "   Actual  Predicted  Result\n",
      "0       1          0   False\n",
      "1       0          0    True\n",
      "2       0          0    True\n",
      "3       1          1    True\n",
      "4       1          0   False\n",
      "5       1          1    True\n",
      "6       1          1    True\n",
      "7       0          0    True\n",
      "8       1          1    True\n",
      "9       1          1    True\n"
     ]
    }
   ],
   "source": [
    "# 예측값과 정답 비교\n",
    "\n",
    "# 테스트 데이터에서 10개 샘플 선택\n",
    "X_sample = X_test[:10]\n",
    "y_sample_true = y_test.iloc[:10]\n",
    "\n",
    "# 모델 선택 (예: Random Forest)\n",
    "model = RandomForestClassifier()\n",
    "model.fit(X_train, y_train)\n",
    "y_sample_pred = model.predict(X_sample)\n",
    "\n",
    "# 결과 비교\n",
    "comparison = pd.DataFrame({\n",
    "    \"Actual\": y_sample_true.values,\n",
    "    \"Predicted\": y_sample_pred\n",
    "})\n",
    "comparison[\"Result\"] = comparison[\"Actual\"] == comparison[\"Predicted\"]\n",
    "\n",
    "print(comparison)"
   ]
  }
 ],
 "metadata": {
  "kernelspec": {
   "display_name": "Python 3 (ipykernel)",
   "language": "python",
   "name": "python3"
  },
  "language_info": {
   "codemirror_mode": {
    "name": "ipython",
    "version": 3
   },
   "file_extension": ".py",
   "mimetype": "text/x-python",
   "name": "python",
   "nbconvert_exporter": "python",
   "pygments_lexer": "ipython3",
   "version": "3.12.6"
  }
 },
 "nbformat": 4,
 "nbformat_minor": 5
}
