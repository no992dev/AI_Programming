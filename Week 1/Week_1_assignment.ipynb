{
 "cells": [
  {
   "cell_type": "markdown",
   "id": "f1734b56-afbd-4784-aae5-56d36d2bfe9e",
   "metadata": {},
   "source": [
    "## Import libraries"
   ]
  },
  {
   "cell_type": "code",
   "execution_count": 1,
   "id": "a15610a2-a36c-4769-9cfd-0e3de1849cf0",
   "metadata": {},
   "outputs": [],
   "source": [
    "import pandas as pd\n",
    "from sklearn.model_selection import train_test_split, cross_val_score\n",
    "from sklearn.preprocessing import StandardScaler\n",
    "from sklearn.tree import DecisionTreeClassifier\n",
    "from sklearn.ensemble import RandomForestClassifier\n",
    "from sklearn.svm import SVC\n",
    "from sklearn.linear_model import LogisticRegression\n",
    "from sklearn.metrics import accuracy_score"
   ]
  },
  {
   "cell_type": "markdown",
   "id": "20869339-31e2-4019-a634-b411e7a7a124",
   "metadata": {},
   "source": [
    "## Load data"
   ]
  },
  {
   "cell_type": "code",
   "execution_count": 2,
   "id": "f53f0ea7-0a96-40a2-9d88-ef0da9a5015d",
   "metadata": {},
   "outputs": [],
   "source": [
    "file_path = \"iris.csv\"\n",
    "df = pd.read_csv(file_path)"
   ]
  },
  {
   "cell_type": "markdown",
   "id": "e6f257df-e50e-4a38-8a74-e8a8ad2491b6",
   "metadata": {},
   "source": [
    "## Locate y and split data into two; train data and test data"
   ]
  },
  {
   "cell_type": "code",
   "execution_count": 3,
   "id": "b9729ead-b5fb-4f6d-86a1-1198e62c43f8",
   "metadata": {},
   "outputs": [],
   "source": [
    "X = df.iloc[:, :-1]\n",
    "y = df.iloc[:, -1] # last column is the 'answer'; which is considered as y\n",
    "X_train, X_test, y_train, y_test = train_test_split(X, y, test_size=0.2, random_state=42, shuffle=True)"
   ]
  },
  {
   "cell_type": "markdown",
   "id": "b795579c-6654-4708-95f2-be613e4b3352",
   "metadata": {},
   "source": [
    "## Standardize data for SVM and LR"
   ]
  },
  {
   "cell_type": "code",
   "execution_count": 4,
   "id": "9637a244-4df5-4c8c-951d-546a88a991c1",
   "metadata": {},
   "outputs": [],
   "source": [
    "scaler = StandardScaler()\n",
    "X_train_scaled = scaler.fit_transform(X_train)\n",
    "X_test_scaled = scaler.transform(X_test)"
   ]
  },
  {
   "cell_type": "markdown",
   "id": "edc28710-2955-44cb-8a8e-8908078b7440",
   "metadata": {},
   "source": [
    "## Describe models"
   ]
  },
  {
   "cell_type": "code",
   "execution_count": 5,
   "id": "dfb4a061-3036-4c52-bc81-73eb4390ac53",
   "metadata": {},
   "outputs": [],
   "source": [
    "models = {\n",
    "    \"Decision Tree\": DecisionTreeClassifier(random_state=42),\n",
    "    \"Random Forest\": RandomForestClassifier(n_estimators=100, random_state=42),\n",
    "    \"SVM\": SVC(),\n",
    "    \"Logistic Regression\": LogisticRegression(max_iter=200)\n",
    "}"
   ]
  },
  {
   "cell_type": "markdown",
   "id": "66f4f8ad-fdaa-4f07-a23a-6f4478b4e9f0",
   "metadata": {},
   "source": [
    "## Test the models and print accuracy scores"
   ]
  },
  {
   "cell_type": "code",
   "execution_count": 6,
   "id": "08475c2c-514e-4b49-83e8-f1c97eda1fb1",
   "metadata": {},
   "outputs": [
    {
     "name": "stdout",
     "output_type": "stream",
     "text": [
      "Decision Tree Test Accuracy: 1.0000\n",
      "Decision Tree Cross-Validation Accuracy: 0.9533\n",
      "----------------------------------------\n",
      "Random Forest Test Accuracy: 1.0000\n",
      "Random Forest Cross-Validation Accuracy: 0.9667\n",
      "----------------------------------------\n",
      "SVM Test Accuracy: 1.0000\n",
      "SVM Cross-Validation Accuracy: 0.9667\n",
      "----------------------------------------\n",
      "Logistic Regression Test Accuracy: 1.0000\n",
      "Logistic Regression Cross-Validation Accuracy: 0.9733\n",
      "----------------------------------------\n"
     ]
    }
   ],
   "source": [
    "for name, model in models.items():\n",
    "    if name in [\"SVM\", \"Logistic Regression\"]:\n",
    "        model.fit(X_train_scaled, y_train)\n",
    "        y_pred = model.predict(X_test_scaled) # Use scaled data\n",
    "    else:\n",
    "        model.fit(X_train, y_train)\n",
    "        y_pred = model.predict(X_test)\n",
    "\n",
    "    accuracy = accuracy_score(y_test, y_pred)\n",
    "    cross_val_acc = cross_val_score(model, X, y, cv=5).mean()\n",
    "    \n",
    "    print(f\"{name} Test Accuracy: {accuracy:.4f}\")\n",
    "    print(f\"{name} Cross-Validation Accuracy: {cross_val_acc:.4f}\")\n",
    "    print(\"-\" * 40)"
   ]
  }
 ],
 "metadata": {
  "kernelspec": {
   "display_name": "Python 3 (ipykernel)",
   "language": "python",
   "name": "python3"
  },
  "language_info": {
   "codemirror_mode": {
    "name": "ipython",
    "version": 3
   },
   "file_extension": ".py",
   "mimetype": "text/x-python",
   "name": "python",
   "nbconvert_exporter": "python",
   "pygments_lexer": "ipython3",
   "version": "3.12.6"
  }
 },
 "nbformat": 4,
 "nbformat_minor": 5
}
