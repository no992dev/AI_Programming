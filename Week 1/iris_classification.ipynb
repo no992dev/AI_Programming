{
 "cells": [
  {
   "cell_type": "markdown",
   "id": "f1734b56-afbd-4784-aae5-56d36d2bfe9e",
   "metadata": {},
   "source": [
    "## Import libraries"
   ]
  },
  {
   "cell_type": "code",
   "execution_count": 1,
   "id": "a15610a2-a36c-4769-9cfd-0e3de1849cf0",
   "metadata": {},
   "outputs": [],
   "source": [
    "import pandas as pd\n",
    "from sklearn.model_selection import train_test_split, cross_val_score\n",
    "from sklearn.preprocessing import StandardScaler\n",
    "from sklearn.tree import DecisionTreeClassifier\n",
    "from sklearn.ensemble import RandomForestClassifier\n",
    "from sklearn.svm import SVC\n",
    "from sklearn.linear_model import LogisticRegression\n",
    "from sklearn.metrics import accuracy_score"
   ]
  },
  {
   "cell_type": "markdown",
   "id": "20869339-31e2-4019-a634-b411e7a7a124",
   "metadata": {},
   "source": [
    "## Load data"
   ]
  },
  {
   "cell_type": "code",
   "execution_count": 2,
   "id": "f53f0ea7-0a96-40a2-9d88-ef0da9a5015d",
   "metadata": {},
   "outputs": [],
   "source": [
    "file_path = \"iris.csv\" #상대경로로 파일 위치 지정\n",
    "df = pd.read_csv(file_path)"
   ]
  },
  {
   "cell_type": "markdown",
   "id": "e6f257df-e50e-4a38-8a74-e8a8ad2491b6",
   "metadata": {},
   "source": [
    "## Locate y and split data into two; train data and test data"
   ]
  },
  {
   "cell_type": "code",
   "execution_count": 3,
   "id": "b9729ead-b5fb-4f6d-86a1-1198e62c43f8",
   "metadata": {},
   "outputs": [],
   "source": [
    "X = df.iloc[:, :-1]\n",
    "y = df.iloc[:, -1] # 마지막 열이 y가 됨\n",
    "X_train, X_test, y_train, y_test = train_test_split(X, y, test_size=0.2, random_state=42, shuffle=True) # 훈련 데이터:테스트 데이터 = 8:2"
   ]
  },
  {
   "cell_type": "markdown",
   "id": "b795579c-6654-4708-95f2-be613e4b3352",
   "metadata": {},
   "source": [
    "## Standardize data for SVM and LR"
   ]
  },
  {
   "cell_type": "code",
   "execution_count": 4,
   "id": "9637a244-4df5-4c8c-951d-546a88a991c1",
   "metadata": {},
   "outputs": [],
   "source": [
    "scaler = StandardScaler()\n",
    "X_train_scaled = scaler.fit_transform(X_train)\n",
    "X_test_scaled = scaler.transform(X_test)"
   ]
  },
  {
   "cell_type": "markdown",
   "id": "edc28710-2955-44cb-8a8e-8908078b7440",
   "metadata": {},
   "source": [
    "## Describe models"
   ]
  },
  {
   "cell_type": "code",
   "execution_count": 5,
   "id": "dfb4a061-3036-4c52-bc81-73eb4390ac53",
   "metadata": {},
   "outputs": [],
   "source": [
    "models = {\n",
    "    \"Decision Tree\": DecisionTreeClassifier(random_state=42),\n",
    "    \"Random Forest\": RandomForestClassifier(n_estimators=100, random_state=42),\n",
    "    \"SVM\": SVC(),\n",
    "    \"Logistic Regression\": LogisticRegression(max_iter=200)\n",
    "}"
   ]
  },
  {
   "cell_type": "markdown",
   "id": "eaf254e1-c105-41a9-9d69-2b1380156148",
   "metadata": {},
   "source": [
    "## Decision Tree Model\n",
    "Data is seperated by if-else type questions."
   ]
  },
  {
   "cell_type": "code",
   "execution_count": 6,
   "id": "064b54ab-af59-4510-9da7-9611a7a13f9e",
   "metadata": {},
   "outputs": [
    {
     "name": "stdout",
     "output_type": "stream",
     "text": [
      "Decision Tree Accuracy: 1.0000\n",
      "Cross-Validation Accuracy: 0.9533\n"
     ]
    }
   ],
   "source": [
    "# DT 모델 학습\n",
    "dt_model = DecisionTreeClassifier(random_state=42)\n",
    "dt_model.fit(X_train, y_train)\n",
    "\n",
    "# 예측 및 평가\n",
    "y_pred = dt_model.predict(X_test)\n",
    "accuracy = accuracy_score(y_test, y_pred)\n",
    "cross_val_acc = cross_val_score(dt_model, X, y, cv=5).mean() # 교차 검증\n",
    "print(f\"Decision Tree Accuracy: {accuracy:.4f}\")\n",
    "print(f\"Cross-Validation Accuracy: {cross_val_acc:.4f}\")"
   ]
  },
  {
   "cell_type": "markdown",
   "id": "69e8aa2c-911d-4d02-b7c6-35b0ef14e0b3",
   "metadata": {},
   "source": [
    "## Random Forest\n",
    "Random Forest builds multiple decision trees, using random data in the dataset."
   ]
  },
  {
   "cell_type": "code",
   "execution_count": 7,
   "id": "7a68879a-9abd-415a-a972-d7f08dfbd666",
   "metadata": {},
   "outputs": [
    {
     "name": "stdout",
     "output_type": "stream",
     "text": [
      "Random Forest Accuracy: 1.0000\n",
      "Cross-Validation Accuracy: 0.9667\n"
     ]
    }
   ],
   "source": [
    "# RF 모델 학습\n",
    "rf_model = RandomForestClassifier(n_estimators=100, random_state=42)\n",
    "rf_model.fit(X_train, y_train)\n",
    "\n",
    "# 예측 및 평가\n",
    "y_pred = rf_model.predict(X_test)\n",
    "accuracy = accuracy_score(y_test, y_pred)\n",
    "cross_val_acc = cross_val_score(rf_model, X, y, cv=5).mean()\n",
    "print(f\"Random Forest Accuracy: {accuracy:.4f}\")\n",
    "print(f\"Cross-Validation Accuracy: {cross_val_acc:.4f}\")"
   ]
  },
  {
   "cell_type": "markdown",
   "id": "8d5c3e6c-75d7-478b-9352-456da3cd6889",
   "metadata": {},
   "source": [
    "## SVM\n",
    "Support Vector Machine seperates data by maximizing the margin between them."
   ]
  },
  {
   "cell_type": "code",
   "execution_count": 8,
   "id": "e6ed1767-40f2-4c00-8f90-788bc95c0364",
   "metadata": {},
   "outputs": [
    {
     "name": "stdout",
     "output_type": "stream",
     "text": [
      "Random Forest Accuracy: 1.0000\n",
      "Cross-Validation Accuracy: 0.9667\n"
     ]
    }
   ],
   "source": [
    "# SVM 모델 학습\n",
    "svm_model = SVC()\n",
    "svm_model.fit(X_train_scaled, y_train)\n",
    "\n",
    "# 예측 및 평가\n",
    "y_pred = svm_model.predict(X_test_scaled)\n",
    "accuracy = accuracy_score(y_test, y_pred)\n",
    "cross_val_acc = cross_val_score(svm_model, X, y, cv=5).mean()\n",
    "print(f\"Random Forest Accuracy: {accuracy:.4f}\")\n",
    "print(f\"Cross-Validation Accuracy: {cross_val_acc:.4f}\")"
   ]
  },
  {
   "cell_type": "markdown",
   "id": "9d8f43a5-8432-47b3-a06a-ccf6be6fc0dc",
   "metadata": {},
   "source": [
    "## LR\n",
    "Logistic Regression locates best-fit linear graph and predicts the next output"
   ]
  },
  {
   "cell_type": "code",
   "execution_count": 9,
   "id": "84486f5e-6d55-453f-840d-02743e712d43",
   "metadata": {},
   "outputs": [
    {
     "name": "stdout",
     "output_type": "stream",
     "text": [
      "Random Forest Accuracy: 1.0000\n",
      "Cross-Validation Accuracy: 0.9733\n"
     ]
    }
   ],
   "source": [
    "# LR 모델 학습\n",
    "lr_model = LogisticRegression(max_iter=200)\n",
    "lr_model.fit(X_train_scaled, y_train)\n",
    "\n",
    "# 예측 및 평가\n",
    "y_pred = svm_model.predict(X_test_scaled)\n",
    "accuracy = accuracy_score(y_test, y_pred)\n",
    "cross_val_acc = cross_val_score(lr_model, X, y, cv=5).mean()\n",
    "print(f\"Random Forest Accuracy: {accuracy:.4f}\")\n",
    "print(f\"Cross-Validation Accuracy: {cross_val_acc:.4f}\")"
   ]
  }
 ],
 "metadata": {
  "kernelspec": {
   "display_name": "Python 3 (ipykernel)",
   "language": "python",
   "name": "python3"
  },
  "language_info": {
   "codemirror_mode": {
    "name": "ipython",
    "version": 3
   },
   "file_extension": ".py",
   "mimetype": "text/x-python",
   "name": "python",
   "nbconvert_exporter": "python",
   "pygments_lexer": "ipython3",
   "version": "3.12.6"
  }
 },
 "nbformat": 4,
 "nbformat_minor": 5
}
