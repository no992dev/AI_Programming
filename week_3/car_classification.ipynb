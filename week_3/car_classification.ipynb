{
 "cells": [
  {
   "cell_type": "markdown",
   "id": "a18cb19e-11ad-4d47-a224-d7d1f501ba91",
   "metadata": {},
   "source": [
    "### 수업 시작 전 실습(car_evaluation.csv의 결측치 확인, 레이블링, 5가지 분류)"
   ]
  },
  {
   "cell_type": "code",
   "execution_count": 1,
   "id": "8300b767-0a8e-4ab5-ab6a-8dce73127585",
   "metadata": {},
   "outputs": [],
   "source": [
    "import pandas as pd\n",
    "import requests\n",
    "from io import StringIO\n",
    "from sklearn.model_selection import train_test_split, cross_val_score\n",
    "from sklearn.preprocessing import LabelEncoder, StandardScaler\n",
    "from sklearn.tree import DecisionTreeClassifier\n",
    "from sklearn.ensemble import RandomForestClassifier\n",
    "from sklearn.svm import SVC\n",
    "from sklearn.linear_model import LogisticRegression\n",
    "from sklearn.neighbors import KNeighborsClassifier\n",
    "from sklearn.metrics import accuracy_score, confusion_matrix\n",
    "import random"
   ]
  },
  {
   "cell_type": "code",
   "execution_count": 2,
   "id": "e9a869cf-088b-4a10-88eb-7131246287bc",
   "metadata": {},
   "outputs": [
    {
     "name": "stdout",
     "output_type": "stream",
     "text": [
      "   vhigh vhigh.1  2 2.1  small   low  unacc\n",
      "0  vhigh   vhigh  2   2  small   med  unacc\n",
      "1  vhigh   vhigh  2   2  small  high  unacc\n",
      "2  vhigh   vhigh  2   2    med   low  unacc\n",
      "3  vhigh   vhigh  2   2    med   med  unacc\n",
      "4  vhigh   vhigh  2   2    med  high  unacc\n"
     ]
    }
   ],
   "source": [
    "car_local = \"C:/AI_Dataset/car_evaluation.csv\"\n",
    "car_local_df = pd.read_csv(car_local)\n",
    "print(car_local_df.head())"
   ]
  },
  {
   "cell_type": "code",
   "execution_count": 3,
   "id": "14dcfe60-8e7d-4128-a9af-8789fac04c66",
   "metadata": {},
   "outputs": [
    {
     "name": "stdout",
     "output_type": "stream",
     "text": [
      "vhigh      0\n",
      "vhigh.1    0\n",
      "2          0\n",
      "2.1        0\n",
      "small      0\n",
      "low        0\n",
      "unacc      0\n",
      "dtype: int64\n"
     ]
    }
   ],
   "source": [
    "# 결측치 확인\n",
    "print(car_local_df.isnull().sum())\n",
    "# 결측치 없음"
   ]
  },
  {
   "cell_type": "code",
   "execution_count": 4,
   "id": "b86d232c-b889-41d9-aa0e-e75c469d072e",
   "metadata": {},
   "outputs": [
    {
     "name": "stdout",
     "output_type": "stream",
     "text": [
      "   vhigh  vhigh.1  2  2.1  small  low  unacc\n",
      "0      3        3  0    0      2    2      2\n",
      "1      3        3  0    0      2    0      2\n",
      "2      3        3  0    0      1    1      2\n",
      "3      3        3  0    0      1    2      2\n",
      "4      3        3  0    0      1    0      2\n"
     ]
    }
   ],
   "source": [
    "# 데이터 레이블링\n",
    "encoder = LabelEncoder()\n",
    "for col in car_local_df.select_dtypes(include=['object']).columns:  # 변환할 범주형 컬럼 리스트\n",
    "    car_local_df[col] = encoder.fit_transform(car_local_df[col])\n",
    "print(car_local_df.head())"
   ]
  },
  {
   "cell_type": "code",
   "execution_count": 5,
   "id": "b1d8a45a-cca3-4d7c-a87a-383aaeedb18f",
   "metadata": {},
   "outputs": [],
   "source": [
    "# X_train, y_train, X_test, y_test 분리\n",
    "X = car_local_df.iloc[:, :-1]\n",
    "y = car_local_df.iloc[:, -1]\n",
    "X_train, X_test, y_train, y_test = train_test_split(X, y, test_size=0.2, random_state=42)"
   ]
  },
  {
   "cell_type": "code",
   "execution_count": 6,
   "id": "425ecffa-732c-4dad-9e9a-cb79e64f59f2",
   "metadata": {},
   "outputs": [
    {
     "name": "stdout",
     "output_type": "stream",
     "text": [
      "Decision Tree Accuracy: 0.9711\n",
      "Decision Tree Confusion Matrix:\n",
      "[[ 73   2   0   2]\n",
      " [  2  12   0   1]\n",
      " [  1   0 236   0]\n",
      " [  0   2   0  15]]\n",
      "\n",
      "Random Forest Accuracy: 0.9624\n",
      "Random Forest Confusion Matrix:\n",
      "[[ 72   1   3   1]\n",
      " [  1  10   0   4]\n",
      " [  1   0 236   0]\n",
      " [  2   0   0  15]]\n",
      "\n",
      "Support Vector Machine Accuracy: 0.8988\n",
      "Support Vector Machine Confusion Matrix:\n",
      "[[ 61   0  16   0]\n",
      " [ 11   2   0   2]\n",
      " [  1   0 236   0]\n",
      " [  5   0   0  12]]\n",
      "\n",
      "Logistic Regression Accuracy: 0.6850\n",
      "Logistic Regression Confusion Matrix:\n",
      "[[ 12   0  64   1]\n",
      " [  2   0  13   0]\n",
      " [ 13   0 224   0]\n",
      " [ 11   0   5   1]]\n",
      "\n",
      "K-Nearest Neighbors Accuracy: 0.8757\n",
      "K-Nearest Neighbors Confusion Matrix:\n",
      "[[ 54   1  22   0]\n",
      " [ 12   2   1   0]\n",
      " [  0   0 237   0]\n",
      " [  6   0   1  10]]\n",
      "\n"
     ]
    }
   ],
   "source": [
    "# 모델 학습 및 평가\n",
    "\n",
    "# 모델 리스트\n",
    "models = {\n",
    "    \"Decision Tree\": DecisionTreeClassifier(),\n",
    "    \"Random Forest\": RandomForestClassifier(),\n",
    "    \"Support Vector Machine\": SVC(),\n",
    "    \"Logistic Regression\": LogisticRegression(),\n",
    "    \"K-Nearest Neighbors\": KNeighborsClassifier()\n",
    "}\n",
    "\n",
    "# 모델 학습 및 평가\n",
    "for name, model in models.items():\n",
    "    model.fit(X_train, y_train)\n",
    "    y_pred = model.predict(X_test)\n",
    "    acc = accuracy_score(y_test, y_pred)\n",
    "    cm = confusion_matrix(y_test, y_pred)\n",
    "    print(f\"{name} Accuracy: {acc:.4f}\")\n",
    "    print(f\"{name} Confusion Matrix:\\n{cm}\\n\")"
   ]
  },
  {
   "cell_type": "code",
   "execution_count": null,
   "id": "8d69c780-cc17-403a-8dd3-46bc9e7bea0b",
   "metadata": {},
   "outputs": [],
   "source": []
  }
 ],
 "metadata": {
  "kernelspec": {
   "display_name": "Python 3 (ipykernel)",
   "language": "python",
   "name": "python3"
  },
  "language_info": {
   "codemirror_mode": {
    "name": "ipython",
    "version": 3
   },
   "file_extension": ".py",
   "mimetype": "text/x-python",
   "name": "python",
   "nbconvert_exporter": "python",
   "pygments_lexer": "ipython3",
   "version": "3.12.6"
  }
 },
 "nbformat": 4,
 "nbformat_minor": 5
}
